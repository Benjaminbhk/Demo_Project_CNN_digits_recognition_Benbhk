{
 "cells": [
  {
   "cell_type": "markdown",
   "id": "24eed869-0ba3-4bb9-bddf-2f70c9bf9e91",
   "metadata": {},
   "source": [
    "# Demo_Projects_CNN_numbers_recognition_Benbhk"
   ]
  },
  {
   "cell_type": "markdown",
   "id": "1817312e-4303-4d4c-9e90-51ba13188054",
   "metadata": {},
   "source": [
    "In this projec"
   ]
  },
  {
   "cell_type": "markdown",
   "id": "a73fa7d2-d639-42b0-a76e-3e4458f9bc20",
   "metadata": {},
   "source": [
    "## import"
   ]
  },
  {
   "cell_type": "code",
   "execution_count": 4,
   "id": "fdc0f7a7-2533-467e-b743-60e42b96670c",
   "metadata": {},
   "outputs": [],
   "source": [
    "# importation of the datasets from tensorflow\n",
    "from tensorflow.keras import datasets\n",
    "\n",
    "import matplotlib.pyplot as plt"
   ]
  },
  {
   "cell_type": "markdown",
   "id": "64ab42ba-73c0-44ca-97cd-2f04dc6dcc88",
   "metadata": {
    "tags": []
   },
   "source": [
    "# Loading the set"
   ]
  },
  {
   "cell_type": "code",
   "execution_count": 3,
   "id": "06c30181-b974-4230-aeed-abdaa16e4b6e",
   "metadata": {},
   "outputs": [],
   "source": [
    "(X_train, y_train), (X_test, y_test) = datasets.mnist.load_data(path=\"mnist.npz\")"
   ]
  },
  {
   "cell_type": "code",
   "execution_count": 5,
   "id": "795d667a-0be9-4a32-9cfb-79de09fe4793",
   "metadata": {},
   "outputs": [
    {
     "data": {
      "text/plain": [
       "<matplotlib.image.AxesImage at 0x7ff75cd980d0>"
      ]
     },
     "execution_count": 5,
     "metadata": {},
     "output_type": "execute_result"
    },
    {
     "data": {
      "image/png": "[encoded data removed]",
      "text/plain": [
       "<Figure size 432x288 with 1 Axes>"
      ]
     },
     "metadata": {
      "needs_background": "light"
     },
     "output_type": "display_data"
    }
   ],
   "source": [
    "plt.imshow(X_train[82],cmap='gray_r')"
   ]
  }
 ],
 "metadata": {
  "kernelspec": {
   "display_name": "Python 3 (ipykernel)",
   "language": "python",
   "name": "python3"
  },
  "language_info": {
   "codemirror_mode": {
    "name": "ipython",
    "version": 3
   },
   "file_extension": ".py",
   "mimetype": "text/x-python",
   "name": "python",
   "nbconvert_exporter": "python",
   "pygments_lexer": "ipython3",
   "version": "3.8.12"
  }
 },
 "nbformat": 4,
 "nbformat_minor": 5
}
